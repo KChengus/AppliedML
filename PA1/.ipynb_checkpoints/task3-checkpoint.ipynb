{
 "cells": [
  {
   "cell_type": "code",
   "execution_count": null,
   "metadata": {},
   "outputs": [],
   "source": [
    "Kevin Cheng\n",
    "Yuting Huang"
   ]
  },
  {
   "cell_type": "code",
   "execution_count": 24,
   "metadata": {},
   "outputs": [],
   "source": [
    "import pandas as pd\n",
    "import numpy as np\n",
    "from sklearn.model_selection import train_test_split\n",
    "\n",
    "# Read the Excel file using Pandas.\n",
    "alldata = pd.read_excel('Hemnet_data.xlsx')\n",
    "\n",
    "# # Convert the timestamp string to an integer representing the year.\n",
    "alldata['year'] = pd.DatetimeIndex(alldata['Sold Date']).year\n",
    "\n",
    "# Convert 'yes' to 1 and 'no' to 0\n",
    "alldata['Balcony'] = alldata['Balcony'].map({'Yes': 1, 'No': 0})\n",
    "alldata['Patio'] = alldata['Patio'].map({'Yes': 1, 'No': 0})\n",
    "alldata['Lift'] = alldata['Lift'].map({'Yes': 1, 'No': 0})\n",
    "\n",
    "# Select the 12 input columns and the output column.\n",
    "selected_columns = ['Final Price (kr)', 'year',  'Num of Room', 'Living Area (m²)', 'Balcony', 'Patio','Current Floor', 'Total Floor', 'Lift', 'Built Year', 'Fee (kr/month)', 'Operating Fee (kr/year)']\n",
    "alldata = alldata[selected_columns]\n",
    "alldata = alldata.dropna()\n",
    "\n",
    "# Shuffle.\n",
    "alldata_shuffled = alldata.sample(frac=1.0, random_state=0)\n",
    "# Separate the input and output columns.\n",
    "X = alldata_shuffled.drop('Final Price (kr)', axis=1)\n",
    "X[\"Fee (kr/month)\"] = X[\"Fee (kr/month)\"].astype(str).str.contains('kr')\n",
    "# For the output, we'll use the log of the sales price.\n",
    "Y = alldata_shuffled['Final Price (kr)'].apply(np.  log)\n",
    "\n",
    "# Split into training and test sets.\n",
    "Xtrain, Xtest, Ytrain, Ytest = train_test_split(X, Y, test_size=0.2, random_state=0)"
   ]
  },
  {
   "cell_type": "code",
   "execution_count": 34,
   "metadata": {},
   "outputs": [
    {
     "data": {
      "text/html": [
       "<div>\n",
       "<style scoped>\n",
       "    .dataframe tbody tr th:only-of-type {\n",
       "        vertical-align: middle;\n",
       "    }\n",
       "\n",
       "    .dataframe tbody tr th {\n",
       "        vertical-align: top;\n",
       "    }\n",
       "\n",
       "    .dataframe thead th {\n",
       "        text-align: right;\n",
       "    }\n",
       "</style>\n",
       "<table border=\"1\" class=\"dataframe\">\n",
       "  <thead>\n",
       "    <tr style=\"text-align: right;\">\n",
       "      <th></th>\n",
       "      <th>year</th>\n",
       "      <th>Num of Room</th>\n",
       "      <th>Living Area (m²)</th>\n",
       "      <th>Balcony</th>\n",
       "      <th>Patio</th>\n",
       "      <th>Current Floor</th>\n",
       "      <th>Total Floor</th>\n",
       "      <th>Lift</th>\n",
       "      <th>Built Year</th>\n",
       "      <th>Fee (kr/month)</th>\n",
       "      <th>Operating Fee (kr/year)</th>\n",
       "    </tr>\n",
       "  </thead>\n",
       "  <tbody>\n",
       "    <tr>\n",
       "      <th>11321</th>\n",
       "      <td>2024.0</td>\n",
       "      <td>3.0</td>\n",
       "      <td>72.0</td>\n",
       "      <td>1</td>\n",
       "      <td>0</td>\n",
       "      <td>4.0</td>\n",
       "      <td>4.0</td>\n",
       "      <td>1</td>\n",
       "      <td>2016.0</td>\n",
       "      <td>False</td>\n",
       "      <td>4800.0</td>\n",
       "    </tr>\n",
       "    <tr>\n",
       "      <th>2336</th>\n",
       "      <td>2023.0</td>\n",
       "      <td>2.0</td>\n",
       "      <td>77.0</td>\n",
       "      <td>1</td>\n",
       "      <td>0</td>\n",
       "      <td>4.0</td>\n",
       "      <td>4.0</td>\n",
       "      <td>1</td>\n",
       "      <td>1983.0</td>\n",
       "      <td>False</td>\n",
       "      <td>3600.0</td>\n",
       "    </tr>\n",
       "    <tr>\n",
       "      <th>19825</th>\n",
       "      <td>2024.0</td>\n",
       "      <td>2.0</td>\n",
       "      <td>52.2</td>\n",
       "      <td>0</td>\n",
       "      <td>0</td>\n",
       "      <td>1.0</td>\n",
       "      <td>5.0</td>\n",
       "      <td>1</td>\n",
       "      <td>1998.0</td>\n",
       "      <td>False</td>\n",
       "      <td>6655.0</td>\n",
       "    </tr>\n",
       "    <tr>\n",
       "      <th>13446</th>\n",
       "      <td>2024.0</td>\n",
       "      <td>1.0</td>\n",
       "      <td>33.0</td>\n",
       "      <td>0</td>\n",
       "      <td>0</td>\n",
       "      <td>9.0</td>\n",
       "      <td>10.0</td>\n",
       "      <td>1</td>\n",
       "      <td>2019.0</td>\n",
       "      <td>False</td>\n",
       "      <td>4860.0</td>\n",
       "    </tr>\n",
       "    <tr>\n",
       "      <th>4609</th>\n",
       "      <td>2023.0</td>\n",
       "      <td>3.0</td>\n",
       "      <td>72.0</td>\n",
       "      <td>0</td>\n",
       "      <td>0</td>\n",
       "      <td>1.0</td>\n",
       "      <td>3.0</td>\n",
       "      <td>0</td>\n",
       "      <td>1957.0</td>\n",
       "      <td>False</td>\n",
       "      <td>7200.0</td>\n",
       "    </tr>\n",
       "    <tr>\n",
       "      <th>...</th>\n",
       "      <td>...</td>\n",
       "      <td>...</td>\n",
       "      <td>...</td>\n",
       "      <td>...</td>\n",
       "      <td>...</td>\n",
       "      <td>...</td>\n",
       "      <td>...</td>\n",
       "      <td>...</td>\n",
       "      <td>...</td>\n",
       "      <td>...</td>\n",
       "      <td>...</td>\n",
       "    </tr>\n",
       "    <tr>\n",
       "      <th>14024</th>\n",
       "      <td>2023.0</td>\n",
       "      <td>4.0</td>\n",
       "      <td>96.0</td>\n",
       "      <td>1</td>\n",
       "      <td>0</td>\n",
       "      <td>3.0</td>\n",
       "      <td>4.0</td>\n",
       "      <td>0</td>\n",
       "      <td>1961.0</td>\n",
       "      <td>False</td>\n",
       "      <td>2775.0</td>\n",
       "    </tr>\n",
       "    <tr>\n",
       "      <th>8499</th>\n",
       "      <td>2024.0</td>\n",
       "      <td>2.0</td>\n",
       "      <td>48.0</td>\n",
       "      <td>1</td>\n",
       "      <td>0</td>\n",
       "      <td>2.0</td>\n",
       "      <td>6.0</td>\n",
       "      <td>1</td>\n",
       "      <td>2012.0</td>\n",
       "      <td>False</td>\n",
       "      <td>5900.0</td>\n",
       "    </tr>\n",
       "    <tr>\n",
       "      <th>26609</th>\n",
       "      <td>2022.0</td>\n",
       "      <td>2.0</td>\n",
       "      <td>51.5</td>\n",
       "      <td>0</td>\n",
       "      <td>0</td>\n",
       "      <td>2.0</td>\n",
       "      <td>2.0</td>\n",
       "      <td>0</td>\n",
       "      <td>1989.0</td>\n",
       "      <td>False</td>\n",
       "      <td>3732.0</td>\n",
       "    </tr>\n",
       "    <tr>\n",
       "      <th>29190</th>\n",
       "      <td>2024.0</td>\n",
       "      <td>2.0</td>\n",
       "      <td>65.0</td>\n",
       "      <td>1</td>\n",
       "      <td>0</td>\n",
       "      <td>1.5</td>\n",
       "      <td>6.0</td>\n",
       "      <td>1</td>\n",
       "      <td>1945.0</td>\n",
       "      <td>False</td>\n",
       "      <td>5520.0</td>\n",
       "    </tr>\n",
       "    <tr>\n",
       "      <th>6956</th>\n",
       "      <td>2023.0</td>\n",
       "      <td>2.0</td>\n",
       "      <td>68.0</td>\n",
       "      <td>1</td>\n",
       "      <td>0</td>\n",
       "      <td>6.0</td>\n",
       "      <td>7.0</td>\n",
       "      <td>1</td>\n",
       "      <td>1967.0</td>\n",
       "      <td>False</td>\n",
       "      <td>6000.0</td>\n",
       "    </tr>\n",
       "  </tbody>\n",
       "</table>\n",
       "<p>11064 rows × 11 columns</p>\n",
       "</div>"
      ],
      "text/plain": [
       "         year  Num of Room  Living Area (m²)  Balcony  Patio  Current Floor  \\\n",
       "11321  2024.0          3.0              72.0        1      0            4.0   \n",
       "2336   2023.0          2.0              77.0        1      0            4.0   \n",
       "19825  2024.0          2.0              52.2        0      0            1.0   \n",
       "13446  2024.0          1.0              33.0        0      0            9.0   \n",
       "4609   2023.0          3.0              72.0        0      0            1.0   \n",
       "...       ...          ...               ...      ...    ...            ...   \n",
       "14024  2023.0          4.0              96.0        1      0            3.0   \n",
       "8499   2024.0          2.0              48.0        1      0            2.0   \n",
       "26609  2022.0          2.0              51.5        0      0            2.0   \n",
       "29190  2024.0          2.0              65.0        1      0            1.5   \n",
       "6956   2023.0          2.0              68.0        1      0            6.0   \n",
       "\n",
       "       Total Floor  Lift  Built Year  Fee (kr/month)  Operating Fee (kr/year)  \n",
       "11321          4.0     1      2016.0           False                   4800.0  \n",
       "2336           4.0     1      1983.0           False                   3600.0  \n",
       "19825          5.0     1      1998.0           False                   6655.0  \n",
       "13446         10.0     1      2019.0           False                   4860.0  \n",
       "4609           3.0     0      1957.0           False                   7200.0  \n",
       "...            ...   ...         ...             ...                      ...  \n",
       "14024          4.0     0      1961.0           False                   2775.0  \n",
       "8499           6.0     1      2012.0           False                   5900.0  \n",
       "26609          2.0     0      1989.0           False                   3732.0  \n",
       "29190          6.0     1      1945.0           False                   5520.0  \n",
       "6956           7.0     1      1967.0           False                   6000.0  \n",
       "\n",
       "[11064 rows x 11 columns]"
      ]
     },
     "execution_count": 34,
     "metadata": {},
     "output_type": "execute_result"
    }
   ],
   "source": [
    "X"
   ]
  },
  {
   "cell_type": "code",
   "execution_count": 21,
   "metadata": {},
   "outputs": [
    {
     "data": {
      "text/plain": [
       "11321    14.316286\n",
       "2336     13.721200\n",
       "19825    14.914123\n",
       "13446    14.417091\n",
       "4609     14.253765\n",
       "           ...    \n",
       "14024    14.808762\n",
       "8499     14.557448\n",
       "26609    12.765688\n",
       "29190    14.669926\n",
       "6956     14.331324\n",
       "Name: Final Price (kr), Length: 11064, dtype: float64"
      ]
     },
     "execution_count": 21,
     "metadata": {},
     "output_type": "execute_result"
    }
   ],
   "source": [
    "Y"
   ]
  },
  {
   "cell_type": "code",
   "execution_count": 25,
   "metadata": {},
   "outputs": [
    {
     "data": {
      "text/plain": [
       "{'fit_time': array([0.00521302, 0.00632787, 0.00269175, 0.00280094, 0.00405598]),\n",
       " 'score_time': array([0.00298095, 0.00359392, 0.00093532, 0.00185013, 0.00207901]),\n",
       " 'test_score': array([-0.22838203, -0.22975599, -0.20002046, -0.22530708, -0.24852397])}"
      ]
     },
     "execution_count": 25,
     "metadata": {},
     "output_type": "execute_result"
    }
   ],
   "source": [
    "from sklearn.linear_model import LinearRegression\n",
    "\n",
    "from sklearn.model_selection import cross_validate\n",
    "m1 = LinearRegression()\n",
    "cross_validate(m1, Xtrain, Ytrain, scoring='neg_mean_squared_error')"
   ]
  },
  {
   "cell_type": "code",
   "execution_count": 26,
   "metadata": {},
   "outputs": [
    {
     "data": {
      "text/plain": [
       "0.21562494511368396"
      ]
     },
     "execution_count": 26,
     "metadata": {},
     "output_type": "execute_result"
    }
   ],
   "source": [
    "from sklearn.metrics import mean_squared_error\n",
    "  \n",
    "m1.fit(Xtrain, Ytrain)\n",
    "mean_squared_error(Ytest, m1.predict(Xtest))\n"
   ]
  },
  {
   "cell_type": "code",
   "execution_count": 32,
   "metadata": {},
   "outputs": [
    {
     "name": "stdout",
     "output_type": "stream",
     "text": [
      "{'fit_time': array([0.02278399, 0.02256298, 0.02280807, 0.02232289, 0.02257919]), 'score_time': array([0.0010643 , 0.0011251 , 0.00100899, 0.00088906, 0.00091887]), 'test_score': array([-0.2894317 , -0.31712543, -0.27106418, -0.29047338, -0.28125532])}\n",
      "{'fit_time': array([1.44579005, 1.40766597, 1.40849805, 1.4069519 , 1.43436289]), 'score_time': array([0.03231692, 0.02969432, 0.02927899, 0.02990603, 0.02979612]), 'test_score': array([-0.15542245, -0.16771856, -0.14297892, -0.15616003, -0.16362399])}\n",
      "0.26498035242300066\n",
      "0.14613357905535235\n"
     ]
    }
   ],
   "source": [
    "from sklearn.tree import DecisionTreeRegressor\n",
    "from sklearn.ensemble import RandomForestRegressor\n",
    "\n",
    "# create the models\n",
    "m2 = DecisionTreeRegressor()\n",
    "m3 = RandomForestRegressor()\n",
    "\n",
    "# train models\n",
    "m2.fit(Xtrain, Ytrain)\n",
    "m3.fit(Xtrain, Ytrain)  \n",
    "\n",
    "# output cross validation   \n",
    "print(cross_validate(m2, Xtrain, Ytrain, scoring='neg_mean_squared_error'))\n",
    "print(cross_validate(m3, Xtrain, Ytrain, scoring='neg_mean_squared_error'))\n",
    "\n",
    "# get mse\n",
    "print(mean_squared_error(Ytest, m2.predict(Xtest)))\n",
    "print(mean_squared_error(Ytest, m3.predict(Xtest)))\n"
   ]
  },
  {
   "cell_type": "code",
   "execution_count": 33,
   "metadata": {},
   "outputs": [
    {
     "name": "stdout",
     "output_type": "stream",
     "text": [
      "{'fit_time': array([0.42157602, 0.41513705, 0.41573977, 0.41513801, 0.41581798]), 'score_time': array([0.00296712, 0.00264192, 0.00279021, 0.00259614, 0.0036931 ]), 'test_score': array([-0.15979796, -0.16709733, -0.14164804, -0.16352724, -0.17566993])}\n",
      "0.14968303166518607\n"
     ]
    }
   ],
   "source": [
    "from sklearn.ensemble import GradientBoostingRegressor\n",
    "\n",
    "m4 = GradientBoostingRegressor(random_state=0)\n",
    "m4.fit(Xtrain, Ytrain)\n",
    "print(cross_validate(m4, Xtrain, Ytrain, scoring='neg_mean_squared_error'))\n",
    "print(mean_squared_error(Ytest, m4.predict(Xtest)))"
   ]
  },
  {
   "cell_type": "code",
   "execution_count": 31,
   "metadata": {},
   "outputs": [
    {
     "name": "stdout",
     "output_type": "stream",
     "text": [
      "{'fit_time': array([0.83442283, 0.66174889, 1.00841713, 1.11366796, 0.8749671 ]), 'score_time': array([0.00379801, 0.00370622, 0.00414419, 0.00326514, 0.00443578]), 'test_score': array([-5.75576109, -1.94364892, -1.86139575, -1.58452043, -2.8645643 ])}\n",
      "3.089509250610125\n"
     ]
    }
   ],
   "source": [
    "from sklearn.neural_network import MLPRegressor\n",
    "m5 = MLPRegressor(hidden_layer_sizes=(100,), random_state=1, max_iter=2000, tol=0.1)\n",
    "m5.fit(Xtrain, Ytrain)\n",
    "print(cross_validate(m5, Xtrain, Ytrain, scoring='neg_mean_squared_error'))\n",
    "print(mean_squared_error(Ytest, m5.predict(Xtest)))"
   ]
  },
  {
   "cell_type": "markdown",
   "metadata": {},
   "source": [
    "LinearRegression\n",
    "{'fit_time': array([0.00521302, 0.00632787, 0.00269175, 0.00280094, 0.00405598]),\n",
    " 'score_time': array([0.00298095, 0.00359392, 0.00093532, 0.00185013, 0.00207901]),\n",
    " 'test_score': array([-0.22838203, -0.22975599, -0.20002046, -0.22530708, -0.24852397])}\n",
    "\n",
    "DecisionTreeRegresson\n",
    "{'fit_time': array([0.02278399, 0.02256298, 0.02280807, 0.02232289, 0.02257919]), 'score_time': array([0.0010643 , 0.0011251 , 0.00100899, 0.00088906, 0.00091887]), 'test_score': array([-0.2894317 , -0.31712543, -0.27106418, -0.29047338, -0.28125532])}\n",
    "\n",
    "RandomForestRegression\n",
    "\n",
    "{'fit_time': array([1.44579005, 1.40766597, 1.40849805, 1.4069519 , 1.43436289]), 'score_time': array([0.03231692, 0.02969432, 0.02927899, 0.02990603, 0.02979612]), 'test_score': array([-0.15542245, -0.16771856, -0.14297892, -0.15616003, -0.16362399])}\n",
    "\n",
    "GradientBoostingRegression\n",
    "\n",
    "{'fit_time': array([0.42157602, 0.41513705, 0.41573977, 0.41513801, 0.41581798]), 'score_time': array([0.00296712, 0.00264192, 0.00279021, 0.00259614, 0.0036931 ]), 'test_score': array([-0.15979796, -0.16709733, -0.14164804, -0.16352724, -0.17566993])}\n",
    "\n",
    "MLPRegression\n",
    "\n",
    "{'fit_time': array([0.83442283, 0.66174889, 1.00841713, 1.11366796, 0.8749671 ]), 'score_time': array([0.00379801, 0.00370622, 0.00414419, 0.00326514, 0.00443578]), 'test_score': array([-5.75576109, -1.94364892, -1.86139575, -1.58452043, -2.8645643 ])}\n",
    "\n"
   ]
  }
 ],
 "metadata": {
  "kernelspec": {
   "display_name": "Python 3 (ipykernel)",
   "language": "python",
   "name": "python3"
  },
  "language_info": {
   "codemirror_mode": {
    "name": "ipython",
    "version": 3
   },
   "file_extension": ".py",
   "mimetype": "text/x-python",
   "name": "python",
   "nbconvert_exporter": "python",
   "pygments_lexer": "ipython3",
   "version": "3.12.2"
  }
 },
 "nbformat": 4,
 "nbformat_minor": 4
}
